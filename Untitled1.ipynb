{
 "cells": [
  {
   "cell_type": "code",
   "execution_count": 1,
   "metadata": {
    "collapsed": false
   },
   "outputs": [
    {
     "ename": "NameError",
     "evalue": "name 'theano' is not defined",
     "output_type": "error",
     "traceback": [
      "\u001b[0;31m---------------------------------------------------------------------------\u001b[0m",
      "\u001b[0;31mNameError\u001b[0m                                 Traceback (most recent call last)",
      "\u001b[0;32m<ipython-input-1-89858454f035>\u001b[0m in \u001b[0;36m<module>\u001b[0;34m()\u001b[0m\n\u001b[1;32m    122\u001b[0m \u001b[0mkmers\u001b[0m\u001b[1;33m,\u001b[0m \u001b[0mtranscripts\u001b[0m\u001b[1;33m,\u001b[0m \u001b[0mvalidation_kmers\u001b[0m\u001b[1;33m,\u001b[0m \u001b[0mvalidation_transcripts\u001b[0m\u001b[1;33m,\u001b[0m \u001b[0mtest_kmers\u001b[0m\u001b[1;33m,\u001b[0m \u001b[0mtest_transcripts\u001b[0m \u001b[1;33m=\u001b[0m \u001b[0mcallFasta\u001b[0m\u001b[1;33m(\u001b[0m\u001b[0mfileName\u001b[0m\u001b[1;33m,\u001b[0m \u001b[0mbaseCoverage\u001b[0m\u001b[1;33m,\u001b[0m \u001b[0mlongKmerLen\u001b[0m\u001b[1;33m,\u001b[0m \u001b[0mshortKmerLen\u001b[0m\u001b[1;33m,\u001b[0m \u001b[0mhistKmerLen\u001b[0m\u001b[1;33m)\u001b[0m\u001b[1;33m\u001b[0m\u001b[0m\n\u001b[1;32m    123\u001b[0m \u001b[1;33m\u001b[0m\u001b[0m\n\u001b[0;32m--> 124\u001b[0;31m shared_kmers = theano.shared(numpy.asarray(kmers,\n\u001b[0m\u001b[1;32m    125\u001b[0m                                                dtype=theano.config.floatX),\n\u001b[1;32m    126\u001b[0m                                  borrow=True)\n",
      "\u001b[0;31mNameError\u001b[0m: name 'theano' is not defined"
     ]
    }
   ],
   "source": []
  },
  {
   "cell_type": "code",
   "execution_count": null,
   "metadata": {
    "collapsed": true
   },
   "outputs": [],
   "source": []
  }
 ],
 "metadata": {
  "kernelspec": {
   "display_name": "Python [conda root]",
   "language": "python",
   "name": "conda-root-py"
  },
  "language_info": {
   "codemirror_mode": {
    "name": "ipython",
    "version": 2
   },
   "file_extension": ".py",
   "mimetype": "text/x-python",
   "name": "python",
   "nbconvert_exporter": "python",
   "pygments_lexer": "ipython2",
   "version": "2.7.12"
  }
 },
 "nbformat": 4,
 "nbformat_minor": 1
}
